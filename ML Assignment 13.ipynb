{
 "cells": [
  {
   "cell_type": "markdown",
   "id": "1c548f03",
   "metadata": {},
   "source": [
    "1. **Example of Prior, Posterior, and Likelihood**:\n",
    "\n",
    "   Let's consider a medical diagnosis scenario:\n",
    "   - Prior Probability (P(Disease)): The initial probability that a patient has a certain disease based on population statistics or historical data, say P(Disease) = 0.05.\n",
    "   - Likelihood Probability (P(Positive Test | Disease)): The probability of getting a positive test result given that the patient has the disease, say P(Positive Test | Disease) = 0.90.\n",
    "   - Posterior Probability (P(Disease | Positive Test)): The updated probability that the patient has the disease after receiving a positive test result, calculated using Bayes' theorem. It combines the prior and likelihood, e.g., P(Disease | Positive Test) = 0.32. This is the probability used for diagnosis.\n",
    "\n",
    "2. **Role of Bayes' Theorem in Concept Learning**:\n",
    "   Bayes' theorem plays a crucial role in concept learning by providing a way to update the probability or belief in a concept based on evidence or data. It allows concept learners to calculate the posterior probability of a concept given observed data, which helps in making decisions and predictions.\n",
    "\n",
    "3. **Real-Life Use of Naïve Bayes Classifier**:\n",
    "   One real-life use of the Naïve Bayes classifier is in email spam filtering:\n",
    "   - **Spam Filtering**: The classifier is trained on a dataset of emails labeled as spam or not spam. It calculates the likelihood of certain words or features appearing in spam emails versus legitimate emails. When a new email arrives, it calculates the posterior probability of it being spam or not based on the observed words and features. If the posterior probability exceeds a threshold, the email is classified as spam and sent to the spam folder.\n",
    "\n",
    "4. **Using Naïve Bayes with Continuous Numeric Data**:\n",
    "   Yes, Naïve Bayes can be used with continuous numeric data. However, you need to use probability density functions (PDFs) or kernel density estimation to estimate the likelihood probabilities for continuous variables, as opposed to discrete counts. Gaussian Naïve Bayes is a common variant that assumes a Gaussian (normal) distribution for continuous features.\n",
    "\n",
    "5. **Bayesian Belief Networks (BBNs)**:\n",
    "   - BBNs are probabilistic graphical models used to represent and reason about uncertainty and dependencies among a set of random variables.\n",
    "   - They consist of nodes representing random variables and directed edges representing conditional dependencies.\n",
    "   - Applications include risk assessment, medical diagnosis, fraud detection, and more. They are versatile and can handle complex problems.\n",
    "\n",
    "6. **Passenger Screening Example**:\n",
    "   To find the chances that an alarm is triggered when an individual is actually an intruder (P(I = 1|A = 1)), you can use Bayes' theorem:\n",
    "   \n",
    "   P(I = 1|A = 1) = [P(A = 1|I = 1) * P(I = 1)] / P(A = 1)\n",
    "   \n",
    "   Calculate P(A = 1) using the law of total probability:\n",
    "   \n",
    "   P(A = 1) = P(A = 1|I = 1) * P(I = 1) + P(A = 1|I = 0) * P(I = 0)\n",
    "   \n",
    "   Then substitute the values to find P(I = 1|A = 1).\n",
    "\n",
    "7. **Antibiotic Resistance Test Example**:\n",
    "   To calculate the likelihood that a person who tests positive (T = 1) is actually immune (D = 1), you can use Bayes' theorem:\n",
    "   \n",
    "   P(D = 1|T = 1) = [P(T = 1|D = 1) * P(D = 1)] / P(T = 1)\n",
    "   \n",
    "   Calculate P(T = 1) using the law of total probability and then substitute the values to find P(D = 1|T = 1).\n",
    "\n",
    "8. **Student Exam Problem**:\n",
    "   To find the likelihood that the student can solve the exam problem, use the law of total probability and calculate P(Solving the Problem) = Σ[ P(Solving the Problem | Form) * P(Form) ] for all forms.\n",
    "\n",
    "   To find the likelihood that the problem was of form A given the student's solution, use Bayes' theorem:\n",
    "   \n",
    "   P(Form A | Solving the Problem) = [P(Solving the Problem | Form A) * P(Form A)] / P(Solving the Problem)\n",
    "\n",
    "9. **Bank CCTV Example**:\n",
    "   1. To find how many customers come into the bank on a daily basis, you can calculate the expected number of customers in a 5-minute interval and then scale it up for a 10-hour day.\n",
    "   2. To find the number of fake photographs and missed photographs, you need to calculate the probabilities of these events occurring in each 5-minute interval and then sum them over the entire day.\n",
    "   3. To explain the likelihood that there is a customer if there is a photograph, you can calculate P(Customer | Photograph) using Bayes' theorem.\n",
    "\n",
    "10. **Conditional Probability Table for Won Toss in Bayesian Belief Network**:\n",
    "    To create a conditional probability table for the node \"Won Toss\" in a Bayesian Belief Network, you would specify the probabilities of winning the toss given different conditions or parent nodes, if any. Without specific details of the network and its structure, it's challenging to provide an exact table. The table would indicate how the outcome \"Won Toss\" depends on the values or states of its parents or predecessors in the network."
   ]
  },
  {
   "cell_type": "code",
   "execution_count": null,
   "id": "958037e8",
   "metadata": {},
   "outputs": [],
   "source": []
  }
 ],
 "metadata": {
  "kernelspec": {
   "display_name": "Python 3 (ipykernel)",
   "language": "python",
   "name": "python3"
  },
  "language_info": {
   "codemirror_mode": {
    "name": "ipython",
    "version": 3
   },
   "file_extension": ".py",
   "mimetype": "text/x-python",
   "name": "python",
   "nbconvert_exporter": "python",
   "pygments_lexer": "ipython3",
   "version": "3.9.12"
  }
 },
 "nbformat": 4,
 "nbformat_minor": 5
}
