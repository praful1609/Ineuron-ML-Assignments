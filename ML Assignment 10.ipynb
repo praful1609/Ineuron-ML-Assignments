{
 "cells": [
  {
   "cell_type": "markdown",
   "id": "3e2368a8",
   "metadata": {},
   "source": [
    "1. **Bayesian Interpretation of Probability**:\n",
    "   The Bayesian interpretation of probability views probability as a measure of uncertainty or degree of belief in an event, given available evidence or information. It combines prior beliefs with observed evidence to update probabilities using Bayes' theorem. In this framework, probability represents a subjective belief rather than a frequency-based concept.\n",
    "\n",
    "2. **Probability of the Union of Two Events**:\n",
    "   The probability of the union (i.e., the occurrence of either one or both) of two events A and B is calculated using the following equation:\n",
    "   \n",
    "   P(A ∪ B) = P(A) + P(B) - P(A ∩ B)\n",
    "\n",
    "3. **Joint Probability**:\n",
    "   Joint probability is the probability that two or more events occur simultaneously. For two events A and B, the joint probability is calculated as:\n",
    "   \n",
    "   P(A ∩ B) = P(A) * P(B|A)\n",
    "\n",
    "   Here, P(A ∩ B) represents the probability that both events A and B occur, P(A) is the probability of event A, and P(B|A) is the conditional probability of event B given that event A has occurred.\n",
    "\n",
    "4. **Chain Rule of Probability**:\n",
    "   The chain rule of probability is a method for calculating the joint probability of multiple events by breaking it down into conditional probabilities. For three events A, B, and C, it is expressed as:\n",
    "   \n",
    "   P(A ∩ B ∩ C) = P(A) * P(B|A) * P(C|A ∩ B)\n",
    "\n",
    "5. **Conditional Probability**:\n",
    "   Conditional probability represents the probability of an event occurring given that another event has already occurred. It is denoted as P(A|B), where A is the event of interest, and B is the event that has already occurred. The formula is:\n",
    "   \n",
    "   P(A|B) = P(A ∩ B) / P(B)\n",
    "\n",
    "6. **Continuous Random Variables**:\n",
    "   Continuous random variables can take on an infinite number of values within a range. They are typically associated with continuous probability distributions. Examples include measurements like height, weight, and time.\n",
    "\n",
    "7. **Bernoulli Distributions**:\n",
    "   The Bernoulli distribution models a binary outcome, where an event can have only two possible outcomes: success (usually denoted as 1) or failure (usually denoted as 0). The probability of success is represented by the parameter p. The probability mass function (PMF) of a Bernoulli distribution is given by:\n",
    "   \n",
    "   P(X = x) = p^x * (1 - p)^(1 - x)\n",
    "\n",
    "8. **Binomial Distribution**:\n",
    "   The binomial distribution models the number of successes (e.g., heads in multiple coin flips) in a fixed number of independent and identical Bernoulli trials. It is characterized by two parameters: the number of trials (n) and the probability of success (p). The probability mass function (PMF) of a binomial distribution is given by:\n",
    "\n",
    "   P(X = k) = (n choose k) * p^k * (1 - p)^(n - k)\n",
    "\n",
    "9. **Poisson Distribution**:\n",
    "   The Poisson distribution models the number of events occurring in a fixed interval of time or space. It is characterized by a single parameter, λ (lambda), which represents the average rate of event occurrences. The probability mass function (PMF) of a Poisson distribution is given by:\n",
    "\n",
    "   P(X = k) = (e^(-λ) * λ^k) / k!\n",
    "\n",
    "10. **Covariance**:\n",
    "    Covariance measures the degree to which two random variables change together. It indicates whether they tend to increase or decrease together. For random variables X and Y, the covariance is calculated as:\n",
    "\n",
    "    Cov(X, Y) = E[(X - E(X)) * (Y - E(Y))]\n",
    "\n",
    "11. **Correlation**:\n",
    "    Correlation is a standardized measure of the linear relationship between two random variables. It quantifies the strength and direction of the linear association. The correlation coefficient, denoted as ρ (rho), ranges from -1 (perfect negative correlation) to 1 (perfect positive correlation), with 0 indicating no linear correlation.\n",
    "\n",
    "12. **Sampling with Replacement**:\n",
    "    Sampling with replacement is a method of drawing items or individuals from a population or dataset in which each item is selected randomly, and after selection, it is placed back into the population. This allows the same item to be selected more than once. For example, drawing marbles from a bag and putting them back after each draw.\n",
    "\n",
    "13. **Sampling without Replacement**:\n",
    "    Sampling without replacement is a method of drawing items or individuals from a population or dataset in which each item is selected randomly, and after selection, it is removed from the population. This ensures that each item can be selected only once. For example, drawing playing cards from a deck without returning them.\n",
    "\n",
    "14. **Hypothesis**:\n",
    "    In statistics and scientific research, a hypothesis is a statement or proposition that is tested or examined to determine its validity. It typically includes a null hypothesis (H0), which represents the status quo or no effect, and an alternative hypothesis (Ha), which represents the effect or relationship being studied. For example, in a medical study, the null hypothesis might be \"The new drug has no effect on patient recovery,\" while the alternative hypothesis would be \"The new drug improves patient recovery.\" Researchers collect data to either accept or reject the null hypothesis based on statistical analysis."
   ]
  },
  {
   "cell_type": "code",
   "execution_count": null,
   "id": "5f45fcc2",
   "metadata": {},
   "outputs": [],
   "source": []
  }
 ],
 "metadata": {
  "kernelspec": {
   "display_name": "Python 3 (ipykernel)",
   "language": "python",
   "name": "python3"
  },
  "language_info": {
   "codemirror_mode": {
    "name": "ipython",
    "version": 3
   },
   "file_extension": ".py",
   "mimetype": "text/x-python",
   "name": "python",
   "nbconvert_exporter": "python",
   "pygments_lexer": "ipython3",
   "version": "3.9.12"
  }
 },
 "nbformat": 4,
 "nbformat_minor": 5
}
